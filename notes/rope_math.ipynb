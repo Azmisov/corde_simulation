{
 "cells": [
  {
   "cell_type": "code",
   "execution_count": 2,
   "metadata": {},
   "outputs": [
    {
     "data": {
      "text/plain": [
       "(-b*c*x + b*c*y, a*c*x - a*c*y, 0)"
      ]
     },
     "execution_count": 2,
     "metadata": {},
     "output_type": "execute_result"
    }
   ],
   "source": [
    "# checking what unrolled w computation would be\n",
    "var(\"a b c x y\", domain='real');\n",
    "w = vector((a,b,c));\n",
    "I = diagonal_matrix((x,x,y));\n",
    "w.cross_product(I*w)"
   ]
  },
  {
   "cell_type": "code",
   "execution_count": 3,
   "metadata": {},
   "outputs": [],
   "source": [
    "var(\"gt gr Ks li lj rx rx2 ry ry2 rz rz2 vx vx2 vy vy2 vz vz2\", domain='real')\n",
    "var(\"qa qb qc qd qa2 qb2 qc2 qd2 ux uy uz Kx Ky\",domain=\"real\");\n",
    "var(\"wx wy wz wx2 wy2 wz2\",domain=\"real\");\n",
    "ri = vector((rx,ry,rz));\n",
    "ri2 = vector((rx2,ry2,rz2));\n",
    "vi = vector((vx,vy,vz));\n",
    "vi2 = vector((vx2,vy2,vz2));\n",
    "q = vector((qa,qb,qc,qd));\n",
    "q2 = vector((qa2,qb2,qc2,qd2));\n",
    "w = vector((wx,wy,wz));\n",
    "w2 = vector((wx2,wy2,wz2));\n",
    "u = vector((ux,uy,uz));\n",
    "dr = ri2-ri;\n",
    "dv = vi2-vi;\n",
    "sq = q2+q\n",
    "dq = q2-q"
   ]
  },
  {
   "cell_type": "code",
   "execution_count": 4,
   "metadata": {},
   "outputs": [
    {
     "data": {
      "text/plain": [
       "(-1.00000000000000*Ks*(rx - rx2)*(sqrt((rx - rx2)^2 + (ry - ry2)^2 + (rz - rz2)^2)/li - 1)/sqrt((rx - rx2)^2 + (ry - ry2)^2 + (rz - rz2)^2), -1.00000000000000*Ks*(ry - ry2)*(sqrt((rx - rx2)^2 + (ry - ry2)^2 + (rz - rz2)^2)/li - 1)/sqrt((rx - rx2)^2 + (ry - ry2)^2 + (rz - rz2)^2), -1.00000000000000*Ks*(rz - rz2)*(sqrt((rx - rx2)^2 + (ry - ry2)^2 + (rz - rz2)^2)/li - 1)/sqrt((rx - rx2)^2 + (ry - ry2)^2 + (rz - rz2)^2))"
      ]
     },
     "execution_count": 4,
     "metadata": {},
     "output_type": "execute_result"
    }
   ],
   "source": [
    "# stretch\n",
    "stretch = .5*li*Ks*(dr.norm()/li - 1)^2\n",
    "pd_stretch = vector((\n",
    "    diff(stretch,rx2),\n",
    "    diff(stretch,ry2),\n",
    "    diff(stretch,rz2)\n",
    "));\n",
    "pd_stretch"
   ]
  },
  {
   "cell_type": "code",
   "execution_count": 5,
   "metadata": {},
   "outputs": [
    {
     "name": "stdout",
     "output_type": "stream",
     "text": [
      "True\n",
      "True\n",
      "True\n"
     ]
    }
   ],
   "source": [
    "# verify stretch reduction\n",
    "norm = dr.norm();\n",
    "pd_stretch_red = -Ks*dr*(1/norm-1/li);\n",
    "for i in range(3):\n",
    "    print(bool(pd_stretch_red[i] == pd_stretch[i]))"
   ]
  },
  {
   "cell_type": "code",
   "execution_count": 6,
   "metadata": {},
   "outputs": [
    {
     "data": {
      "text/plain": [
       "(-2.00000000000000*(Kx*(qd*(ux + ((qb - qb2)*(qc + qc2) - (qb + qb2)*(qc - qc2) + (qa - qa2)*(qd + qd2) - (qa + qa2)*(qd - qd2))/lj)/lj - qc*(uy - ((qa - qa2)*(qc + qc2) - (qa + qa2)*(qc - qc2) - (qb - qb2)*(qd + qd2) + (qb + qb2)*(qd - qd2))/lj)/lj) + Ky*qb*(uz + ((qa - qa2)*(qb + qb2) - (qa + qa2)*(qb - qb2) + (qc - qc2)*(qd + qd2) - (qc + qc2)*(qd - qd2))/lj)/lj)*lj, -2.00000000000000*(Kx*(qc*(ux + ((qb - qb2)*(qc + qc2) - (qb + qb2)*(qc - qc2) + (qa - qa2)*(qd + qd2) - (qa + qa2)*(qd - qd2))/lj)/lj + qd*(uy - ((qa - qa2)*(qc + qc2) - (qa + qa2)*(qc - qc2) - (qb - qb2)*(qd + qd2) + (qb + qb2)*(qd - qd2))/lj)/lj) - Ky*qa*(uz + ((qa - qa2)*(qb + qb2) - (qa + qa2)*(qb - qb2) + (qc - qc2)*(qd + qd2) - (qc + qc2)*(qd - qd2))/lj)/lj)*lj, 2.00000000000000*(Kx*(qb*(ux + ((qb - qb2)*(qc + qc2) - (qb + qb2)*(qc - qc2) + (qa - qa2)*(qd + qd2) - (qa + qa2)*(qd - qd2))/lj)/lj - qa*(uy - ((qa - qa2)*(qc + qc2) - (qa + qa2)*(qc - qc2) - (qb - qb2)*(qd + qd2) + (qb + qb2)*(qd - qd2))/lj)/lj) - Ky*qd*(uz + ((qa - qa2)*(qb + qb2) - (qa + qa2)*(qb - qb2) + (qc - qc2)*(qd + qd2) - (qc + qc2)*(qd - qd2))/lj)/lj)*lj, 2.00000000000000*(Kx*(qa*(ux + ((qb - qb2)*(qc + qc2) - (qb + qb2)*(qc - qc2) + (qa - qa2)*(qd + qd2) - (qa + qa2)*(qd - qd2))/lj)/lj + qb*(uy - ((qa - qa2)*(qc + qc2) - (qa + qa2)*(qc - qc2) - (qb - qb2)*(qd + qd2) + (qb + qb2)*(qd - qd2))/lj)/lj) + Ky*qc*(uz + ((qa - qa2)*(qb + qb2) - (qa + qa2)*(qb - qb2) + (qc - qc2)*(qd + qd2) - (qc + qc2)*(qd - qd2))/lj)/lj)*lj)"
      ]
     },
     "execution_count": 6,
     "metadata": {},
     "output_type": "execute_result"
    }
   ],
   "source": [
    "# bending energy\n",
    "B = matrix([\n",
    "    [sq[3],sq[2],-sq[1],-sq[0]],\n",
    "    [-sq[2],sq[3],sq[0],-sq[1]],\n",
    "    [sq[1],-sq[0],sq[3],-sq[2]]\n",
    "]);\n",
    "udelta = (B*dq)/lj - u\n",
    "bending = .5*lj*(Kx*(udelta[0]^2 + udelta[1]^2) + Ky*udelta[2]^2)\n",
    "pd_bending = vector((\n",
    "    diff(bending,qa2),\n",
    "    diff(bending,qb2),\n",
    "    diff(bending,qc2),\n",
    "    diff(bending,qd2),\n",
    "));\n",
    "pd_bending"
   ]
  },
  {
   "cell_type": "code",
   "execution_count": 7,
   "metadata": {
    "scrolled": true
   },
   "outputs": [
    {
     "name": "stdout",
     "output_type": "stream",
     "text": [
      "True\n",
      "True\n",
      "True\n",
      "True\n"
     ]
    }
   ],
   "source": [
    "# verify bending reduction\n",
    "Q2 = matrix([\n",
    "    [-qd2,qc2,-qb2],\n",
    "    [-qc2,-qd2,qa2],\n",
    "    [qb2,-qa2,-qd2],\n",
    "    [qa2,qb2,qc2]\n",
    "]);\n",
    "Q2j = matrix([\n",
    "    [-qd,qc,-qb],\n",
    "    [-qc,-qd,qa],\n",
    "    [qb,-qa,-qd],\n",
    "    [qa,qb,qc]\n",
    "]);\n",
    "udelta_k = vector((\n",
    "    udelta[0]*Kx,\n",
    "    udelta[1]*Kx,\n",
    "    udelta[2]*Ky\n",
    "));\n",
    "pd_bend_reduction = -Q2j*2*udelta_k\n",
    "for i in range(4):\n",
    "    print(bool(pd_bend_reduction[i].simplify() == pd_bending[i].simplify()))"
   ]
  },
  {
   "cell_type": "code",
   "execution_count": 8,
   "metadata": {},
   "outputs": [],
   "source": [
    "# constraint translation\n",
    "var(\"d3x d3y d3z k\",domain=\"real\")\n",
    "d3 = vector((d3x,d3y,d3z))\n",
    "err = (dr/dr.norm() - d3);\n",
    "constraint = .5*li*k*err.dot_product(err)\n",
    "pd_constraint_actual = vector((\n",
    "    diff(constraint,rx2),\n",
    "    diff(constraint,ry2),\n",
    "    diff(constraint,rz2)\n",
    "));"
   ]
  },
  {
   "cell_type": "code",
   "execution_count": 9,
   "metadata": {},
   "outputs": [
    {
     "name": "stdout",
     "output_type": "stream",
     "text": [
      "True\n",
      "True\n",
      "True\n"
     ]
    }
   ],
   "source": [
    "# verify constraint translation reduction\n",
    "drr = dr.dot_product(dr);\n",
    "dr_l2_inv = 1/dr.norm();\n",
    "dr_norm = dr*dr_l2_inv;\n",
    "delta = (dr_norm-d3);\n",
    "pd_constraint = -k*li*dr_l2_inv*(dr*delta.dot_product(dr)/drr - delta)\n",
    "for i in range(3):\n",
    "    print(bool(pd_constraint[i] == pd_constraint_actual[i]))"
   ]
  },
  {
   "cell_type": "code",
   "execution_count": 10,
   "metadata": {},
   "outputs": [
    {
     "data": {
      "text/plain": [
       "(2.00000000000000*((qa^2 + qb^2 - qc^2 - qd^2 - (rz - rz2)/sqrt((rx - rx2)^2 + (ry - ry2)^2 + (rz - rz2)^2))*qa + (2*qa*qc + 2*qb*qd + (rx - rx2)/sqrt((rx - rx2)^2 + (ry - ry2)^2 + (rz - rz2)^2))*qc - (2*qb*qc - 2*qa*qd + (ry - ry2)/sqrt((rx - rx2)^2 + (ry - ry2)^2 + (rz - rz2)^2))*qd)*k*li, 2.00000000000000*((qa^2 + qb^2 - qc^2 - qd^2 - (rz - rz2)/sqrt((rx - rx2)^2 + (ry - ry2)^2 + (rz - rz2)^2))*qb + (2*qb*qc - 2*qa*qd + (ry - ry2)/sqrt((rx - rx2)^2 + (ry - ry2)^2 + (rz - rz2)^2))*qc + (2*qa*qc + 2*qb*qd + (rx - rx2)/sqrt((rx - rx2)^2 + (ry - ry2)^2 + (rz - rz2)^2))*qd)*k*li, 2.00000000000000*((2*qa*qc + 2*qb*qd + (rx - rx2)/sqrt((rx - rx2)^2 + (ry - ry2)^2 + (rz - rz2)^2))*qa + (2*qb*qc - 2*qa*qd + (ry - ry2)/sqrt((rx - rx2)^2 + (ry - ry2)^2 + (rz - rz2)^2))*qb - (qa^2 + qb^2 - qc^2 - qd^2 - (rz - rz2)/sqrt((rx - rx2)^2 + (ry - ry2)^2 + (rz - rz2)^2))*qc)*k*li, -2.00000000000000*((2*qb*qc - 2*qa*qd + (ry - ry2)/sqrt((rx - rx2)^2 + (ry - ry2)^2 + (rz - rz2)^2))*qa - (2*qa*qc + 2*qb*qd + (rx - rx2)/sqrt((rx - rx2)^2 + (ry - ry2)^2 + (rz - rz2)^2))*qb + (qa^2 + qb^2 - qc^2 - qd^2 - (rz - rz2)/sqrt((rx - rx2)^2 + (ry - ry2)^2 + (rz - rz2)^2))*qd)*k*li)"
      ]
     },
     "execution_count": 10,
     "metadata": {},
     "output_type": "execute_result"
    }
   ],
   "source": [
    "# constraint rotation energy\n",
    "d3 = vector((2*(qa*qc+qb*qd), 2*(qb*qc-qa*qd), qd*qd+qc*qc-qb*qb-qa*qa))\n",
    "err = (dr/dr.norm() - d3);\n",
    "constraint = .5*li*k*err.dot_product(err)\n",
    "pd_conrot_act = vector((\n",
    "    diff(constraint,qa),\n",
    "    diff(constraint,qb),\n",
    "    diff(constraint,qc),\n",
    "    diff(constraint,qd)\n",
    "));\n",
    "pd_conrot_act"
   ]
  },
  {
   "cell_type": "code",
   "execution_count": 27,
   "metadata": {},
   "outputs": [
    {
     "name": "stdout",
     "output_type": "stream",
     "text": [
      "True\n",
      "True\n",
      "True\n",
      "True\n"
     ]
    }
   ],
   "source": [
    "# verify conrot reduction\n",
    "Q1 = matrix([\n",
    "    [-qc,qd,qa],\n",
    "    [-qd,-qc,qb],\n",
    "    [-qa,-qb,-qc],\n",
    "    [-qb,qa,-qd]\n",
    "]);\n",
    "pd_conrot = 2*k*li*Q1*err;\n",
    "for i in range(4):\n",
    "    print(bool(pd_conrot[i] == pd_conrot_act[i]))"
   ]
  },
  {
   "cell_type": "code",
   "execution_count": 12,
   "metadata": {},
   "outputs": [
    {
     "data": {
      "text/plain": [
       "(1.00000000000000*gt*li*(((rx - rx2)*(vx - vx2) + (ry - ry2)*(vy - vy2) + (rz - rz2)*(vz - vz2))*(rx - rx2)^3/li^6 + ((rx - rx2)*(vx - vx2) + (ry - ry2)*(vy - vy2) + (rz - rz2)*(vz - vz2))*(rx - rx2)*(ry - ry2)^2/li^6 + ((rx - rx2)*(vx - vx2) + (ry - ry2)*(vy - vy2) + (rz - rz2)*(vz - vz2))*(rx - rx2)*(rz - rz2)^2/li^6), 1.00000000000000*gt*li*(((rx - rx2)*(vx - vx2) + (ry - ry2)*(vy - vy2) + (rz - rz2)*(vz - vz2))*(rx - rx2)^2*(ry - ry2)/li^6 + ((rx - rx2)*(vx - vx2) + (ry - ry2)*(vy - vy2) + (rz - rz2)*(vz - vz2))*(ry - ry2)^3/li^6 + ((rx - rx2)*(vx - vx2) + (ry - ry2)*(vy - vy2) + (rz - rz2)*(vz - vz2))*(ry - ry2)*(rz - rz2)^2/li^6), 1.00000000000000*gt*li*(((rx - rx2)*(vx - vx2) + (ry - ry2)*(vy - vy2) + (rz - rz2)*(vz - vz2))*(rx - rx2)^2*(rz - rz2)/li^6 + ((rx - rx2)*(vx - vx2) + (ry - ry2)*(vy - vy2) + (rz - rz2)*(vz - vz2))*(ry - ry2)^2*(rz - rz2)/li^6 + ((rx - rx2)*(vx - vx2) + (ry - ry2)*(vy - vy2) + (rz - rz2)*(vz - vz2))*(rz - rz2)^3/li^6))"
      ]
     },
     "execution_count": 12,
     "metadata": {},
     "output_type": "execute_result"
    }
   ],
   "source": [
    "# translation dissipation friction\n",
    "vrel = dr*(dv.dot_product(dr))/li^3\n",
    "disst = .5*li*gt*vrel.dot_product(vrel)\n",
    "pd_disstran_act = vector((\n",
    "    diff(disst,vx),\n",
    "    diff(disst,vy),\n",
    "    diff(disst,vz),\n",
    "))\n",
    "pd_disstran_act"
   ]
  },
  {
   "cell_type": "code",
   "execution_count": 13,
   "metadata": {},
   "outputs": [
    {
     "name": "stdout",
     "output_type": "stream",
     "text": [
      "True\n",
      "True\n",
      "True\n"
     ]
    }
   ],
   "source": [
    "# verify disstran reduction\n",
    "drr = dr.dot_product(dr)\n",
    "drv = dr.dot_product(dv)\n",
    "pd_disstran = -gt/li^5 * drr*drv*dr;\n",
    "for i in range(3):\n",
    "    print(bool(pd_disstran[i]==pd_disstran_act[i]))"
   ]
  },
  {
   "cell_type": "code",
   "execution_count": 14,
   "metadata": {},
   "outputs": [
    {
     "data": {
      "text/plain": [
       "(-4*((qb*qda - qb2*qda2 - qa*qdb + qa2*qdb2 - qd*qdc + qd2*qdc2 + qc*qdd - qc2*qdd2)*qb2 + (qc*qda - qc2*qda2 + qd*qdb - qd2*qdb2 - qa*qdc + qa2*qdc2 - qb*qdd + qb2*qdd2)*qc2 + (qd*qda - qd2*qda2 - qc*qdb + qc2*qdb2 + qb*qdc - qb2*qdc2 - qa*qdd + qa2*qdd2)*qd2)*gr/lj, 4*((qb*qda - qb2*qda2 - qa*qdb + qa2*qdb2 - qd*qdc + qd2*qdc2 + qc*qdd - qc2*qdd2)*qa2 + (qd*qda - qd2*qda2 - qc*qdb + qc2*qdb2 + qb*qdc - qb2*qdc2 - qa*qdd + qa2*qdd2)*qc2 - (qc*qda - qc2*qda2 + qd*qdb - qd2*qdb2 - qa*qdc + qa2*qdc2 - qb*qdd + qb2*qdd2)*qd2)*gr/lj, 4*((qc*qda - qc2*qda2 + qd*qdb - qd2*qdb2 - qa*qdc + qa2*qdc2 - qb*qdd + qb2*qdd2)*qa2 - (qd*qda - qd2*qda2 - qc*qdb + qc2*qdb2 + qb*qdc - qb2*qdc2 - qa*qdd + qa2*qdd2)*qb2 + (qb*qda - qb2*qda2 - qa*qdb + qa2*qdb2 - qd*qdc + qd2*qdc2 + qc*qdd - qc2*qdd2)*qd2)*gr/lj, 4*((qd*qda - qd2*qda2 - qc*qdb + qc2*qdb2 + qb*qdc - qb2*qdc2 - qa*qdd + qa2*qdd2)*qa2 + (qc*qda - qc2*qda2 + qd*qdb - qd2*qdb2 - qa*qdc + qa2*qdc2 - qb*qdd + qb2*qdd2)*qb2 - (qb*qda - qb2*qda2 - qa*qdb + qa2*qdb2 - qd*qdc + qd2*qdc2 + qc*qdd - qc2*qdd2)*qc2)*gr/lj)"
      ]
     },
     "execution_count": 14,
     "metadata": {},
     "output_type": "execute_result"
    }
   ],
   "source": [
    "# angular dissipation\n",
    "# QJ has first column trimmed off\n",
    "QJ1 = matrix([\n",
    "    [-qb, -qc, -qd],\n",
    "    [ qa, -qd,  qc],\n",
    "    [ qd,  qa, -qb],\n",
    "    [-qc,  qb,  qa]\n",
    "]);\n",
    "QJ2 = matrix([\n",
    "    [-qb2, -qc2, -qd2],\n",
    "    [ qa2, -qd2,  qc2],\n",
    "    [ qd2,  qa2, -qb2],\n",
    "    [-qc2,  qb2,  qa2]\n",
    "]);\n",
    "Bkj1 = matrix([\n",
    "    [ qd, -qc,  qb, -qa],\n",
    "    [ qc,  qd, -qa, -qb],\n",
    "    [-qb,  qa,  qd, -qc]\n",
    "]);\n",
    "Bkj2 = matrix([\n",
    "    [ qd2, -qc2,  qb2, -qa2],\n",
    "    [ qc2,  qd2, -qa2, -qb2],\n",
    "    [-qb2,  qa2,  qd2, -qc2]\n",
    "]);\n",
    "var(\"qda qdb qdc qdd qda2 qdb2 qdc2 qdd2\"); # q time derivative\n",
    "qdt = vector((qda,qdb,qdc,qdd));\n",
    "qdt2 = vector((qda2,qdb2,qdc2,qdd2));\n",
    "\n",
    "bkjs = Bkj2*qdt2 - Bkj1*qdt;\n",
    "angdiss = 2*gr/lj*bkjs.dot_product(bkjs);\n",
    "pd_angdiss_act = vector((\n",
    "    diff(angdiss,qda2),\n",
    "    diff(angdiss,qdb2),\n",
    "    diff(angdiss,qdc2),\n",
    "    diff(angdiss,qdd2),\n",
    "));\n",
    "pd_angdiss_act"
   ]
  },
  {
   "cell_type": "code",
   "execution_count": 15,
   "metadata": {},
   "outputs": [
    {
     "name": "stdout",
     "output_type": "stream",
     "text": [
      "True\n",
      "True\n",
      "True\n",
      "True\n"
     ]
    }
   ],
   "source": [
    "# angdiss reduction verify\n",
    "pd_angdiss = -4*gr/lj*transpose(-Bkj2)*bkjs\n",
    "for i in range(4):\n",
    "    print(bool(pd_angdiss[i] == pd_angdiss_act[i]))"
   ]
  },
  {
   "cell_type": "code",
   "execution_count": 16,
   "metadata": {},
   "outputs": [
    {
     "data": {
      "text/plain": [
       "[ qa^2 - qb^2 - qc^2 + qd^2          2*qa*qb - 2*qc*qd          2*qa*qc + 2*qb*qd]\n",
       "[         2*qa*qb + 2*qc*qd -qa^2 + qb^2 - qc^2 + qd^2          2*qb*qc - 2*qa*qd]\n",
       "[         2*qa*qc - 2*qb*qd          2*qb*qc + 2*qa*qd -qa^2 - qb^2 + qc^2 + qd^2]"
      ]
     },
     "execution_count": 16,
     "metadata": {},
     "output_type": "execute_result"
    }
   ],
   "source": [
    "# quaternion <-> director analysis\n",
    "R = matrix([\n",
    "    [1-2*(qb*qb+qc*qc), 2*(qa*qb-qc*qd), 2*(qa*qc+qb*qd)],\n",
    "    [2*(qa*qb+qc*qd), 1-2*(qa*qa+qc*qc), 2*(qb*qc-qa*qd)],\n",
    "    [2*(qa*qc-qb*qd), 2*(qb*qc+qa*qd), 1-2*(qa*qa+qb*qb)]\n",
    "]);\n",
    "q2 = q.dot_product(q)-1;\n",
    "one_mat = diagonal_matrix((q2,q2,q2))\n",
    "R + one_mat"
   ]
  },
  {
   "cell_type": "code",
   "execution_count": 17,
   "metadata": {},
   "outputs": [
    {
     "data": {
      "text/plain": [
       "cc"
      ]
     },
     "execution_count": 17,
     "metadata": {},
     "output_type": "execute_result"
    }
   ],
   "source": [
    "# other tests....\n",
    "var(\"aa bb cc dd\")\n",
    "A = 1-2*(bb+cc)\n",
    "B = 1-2*(aa+cc)\n",
    "C = 1-2*(aa+bb)\n",
    "(-A-B+C+1)/4"
   ]
  },
  {
   "cell_type": "code",
   "execution_count": 23,
   "metadata": {},
   "outputs": [
    {
     "ename": "NameError",
     "evalue": "name 'simplify_full' is not defined",
     "output_type": "error",
     "traceback": [
      "\u001b[0;31m---------------------------------------------------------------------------\u001b[0m",
      "\u001b[0;31mNameError\u001b[0m                                 Traceback (most recent call last)",
      "\u001b[0;32m<ipython-input-23-053fd97cb3cf>\u001b[0m in \u001b[0;36m<module>\u001b[0;34m()\u001b[0m\n\u001b[1;32m      5\u001b[0m     \u001b[0;34m[\u001b[0m\u001b[0;34m-\u001b[0m\u001b[0mqa\u001b[0m\u001b[0;34m,\u001b[0m \u001b[0;34m-\u001b[0m\u001b[0mqb\u001b[0m\u001b[0;34m,\u001b[0m \u001b[0;34m-\u001b[0m\u001b[0mqc\u001b[0m\u001b[0;34m,\u001b[0m \u001b[0mqd\u001b[0m\u001b[0;34m]\u001b[0m\u001b[0;34m\u001b[0m\u001b[0m\n\u001b[1;32m      6\u001b[0m ]);\n\u001b[0;32m----> 7\u001b[0;31m \u001b[0msimplify_full\u001b[0m\u001b[0;34m(\u001b[0m\u001b[0mQ\u001b[0m\u001b[0;34m.\u001b[0m\u001b[0minverse\u001b[0m\u001b[0;34m(\u001b[0m\u001b[0;34m)\u001b[0m\u001b[0;34m)\u001b[0m\u001b[0;34m\u001b[0m\u001b[0m\n\u001b[0m",
      "\u001b[0;31mNameError\u001b[0m: name 'simplify_full' is not defined"
     ]
    }
   ],
   "source": [
    "Q = matrix([\n",
    "    [qd, qc, -qb, qa],\n",
    "    [-qc, qd, qa, qb],\n",
    "    [qb, -qa, qd, qc],\n",
    "    [-qa, -qb, -qc, qd]\n",
    "]);"
   ]
  }
 ],
 "metadata": {
  "kernelspec": {
   "display_name": "SageMath 8.3",
   "language": "",
   "name": "sagemath"
  },
  "language_info": {
   "codemirror_mode": {
    "name": "ipython",
    "version": 2
   },
   "file_extension": ".py",
   "mimetype": "text/x-python",
   "name": "python",
   "nbconvert_exporter": "python",
   "pygments_lexer": "ipython2",
   "version": "2.7.15"
  }
 },
 "nbformat": 4,
 "nbformat_minor": 2
}
